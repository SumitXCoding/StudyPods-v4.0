{
  "cells": [
    {
      "cell_type": "code",
      "execution_count": null,
      "metadata": {
        "colab": {
          "base_uri": "https://localhost:8080/"
        },
        "id": "Av47PRDB9x-l",
        "outputId": "a0cc8d3c-f331-49de-e571-9f602a1ff31d"
      },
      "outputs": [],
      "source": [
        "!pip install ultralytics"
      ]
    },
    {
      "cell_type": "code",
      "execution_count": null,
      "metadata": {
        "colab": {
          "base_uri": "https://localhost:8080/"
        },
        "id": "TvfhEESD92fT",
        "outputId": "4acb8687-d71e-478f-a793-b75493267723"
      },
      "outputs": [],
      "source": [
        "import os\n",
        "import shutil\n",
        "import random\n",
        "\n",
        "!pip install tqdm --upgrade\n",
        "from tqdm.notebook import tqdm"
      ]
    },
    {
      "cell_type": "code",
      "execution_count": null,
      "metadata": {
        "colab": {
          "base_uri": "https://localhost:8080/"
        },
        "id": "5YXh_aek-VHE",
        "outputId": "b18e7249-c047-4ccd-bd44-248fe85c9c56"
      },
      "outputs": [],
      "source": [
        "import ultralytics\n",
        "ultralytics.checks()"
      ]
    },
    {
      "cell_type": "code",
      "execution_count": null,
      "metadata": {
        "colab": {
          "base_uri": "https://localhost:8080/"
        },
        "id": "ODC6UMan-taH",
        "outputId": "458bed68-82c9-487a-e82e-ffadda95d2c0"
      },
      "outputs": [],
      "source": [
        "!yolo task=detect mode=train model=yolov8l.pt data=/content/drive/MyDrive/april/coco128.yaml epochs=20 imgsz=320 batch=4 project=/content/drive/MyDrive/april/training_results name=helmet"
      ]
    },
    {
      "cell_type": "code",
      "execution_count": null,
      "metadata": {
        "colab": {
          "base_uri": "https://localhost:8080/"
        },
        "id": "XN_EumbM_ioK",
        "outputId": "c521a12b-249e-4de8-f539-b8992e450ae0"
      },
      "outputs": [],
      "source": [
        "!yolo task=detect mode=predict model=/content/drive/MyDrive/april/training_results/helmet2/weights/best.pt conf=0.55 source=/content/drive/MyDrive/april/test_images"
      ]
    },
    {
      "cell_type": "code",
      "execution_count": 9,
      "metadata": {
        "id": "FkPt7XSBBn8R"
      },
      "outputs": [],
      "source": [
        "!cp -r /content/runs/detect/predict /content/drive/MyDrive/april/output"
      ]
    },
    {
      "cell_type": "code",
      "execution_count": null,
      "metadata": {
        "id": "tYqlvDZNBwAj"
      },
      "outputs": [],
      "source": []
    }
  ],
  "metadata": {
    "accelerator": "GPU",
    "colab": {
      "gpuType": "T4",
      "provenance": []
    },
    "kernelspec": {
      "display_name": "Python 3",
      "name": "python3"
    },
    "language_info": {
      "name": "python"
    }
  },
  "nbformat": 4,
  "nbformat_minor": 0
}
