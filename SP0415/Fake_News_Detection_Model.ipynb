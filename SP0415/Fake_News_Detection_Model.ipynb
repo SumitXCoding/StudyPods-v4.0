{
  "nbformat": 4,
  "nbformat_minor": 0,
  "metadata": {
    "colab": {
      "provenance": []
    },
    "kernelspec": {
      "name": "python3",
      "display_name": "Python 3"
    },
    "language_info": {
      "name": "python"
    }
  },
  "cells": [
    {
      "cell_type": "markdown",
      "source": [
        "about the dataset:\n",
        "1. id:unique id for a news article\n",
        "2. title: the title of a news article\n",
        "3. author: author of the news article\n",
        "4. text: the text of the article, could be incomplete\n",
        "5. label : a label that marks whether the news article is real or fake:\n",
        "\n",
        "    1: Fake news\n",
        "    0: real news\n",
        "    "
      ],
      "metadata": {
        "id": "qpQX3p7PXFFG"
      }
    },
    {
      "cell_type": "markdown",
      "source": [
        "Importing the Depedencies"
      ],
      "metadata": {
        "id": "gC6CUIm3XFFN"
      }
    },
    {
      "cell_type": "code",
      "source": [
        "import numpy as np\n",
        "import pandas as pd\n",
        "import re\n",
        "from nltk.corpus import stopwords\n",
        "from nltk.stem.porter import PorterStemmer\n",
        "from sklearn.feature_extraction.text import TfidfVectorizer\n",
        "from sklearn.model_selection import train_test_split\n",
        "from sklearn.linear_model import LogisticRegression\n",
        "from sklearn.metrics import accuracy_score\n"
      ],
      "metadata": {
        "id": "k1pZExdLXFFO"
      },
      "execution_count": 202,
      "outputs": []
    },
    {
      "cell_type": "code",
      "source": [
        "import nltk\n",
        "nltk.download('stopwords')"
      ],
      "metadata": {
        "colab": {
          "base_uri": "https://localhost:8080/"
        },
        "outputId": "3b596a11-34d9-4c6c-c231-978ed85b5a77",
        "id": "c7udUxWgXFFO"
      },
      "execution_count": 203,
      "outputs": [
        {
          "output_type": "stream",
          "name": "stderr",
          "text": [
            "[nltk_data] Downloading package stopwords to /root/nltk_data...\n",
            "[nltk_data]   Package stopwords is already up-to-date!\n"
          ]
        },
        {
          "output_type": "execute_result",
          "data": {
            "text/plain": [
              "True"
            ]
          },
          "metadata": {},
          "execution_count": 203
        }
      ]
    },
    {
      "cell_type": "code",
      "source": [
        "#printing the stopwords in english\n",
        "print(stopwords.words('english'))"
      ],
      "metadata": {
        "colab": {
          "base_uri": "https://localhost:8080/"
        },
        "outputId": "b05d2a09-995e-42e1-b1c4-41319f474d75",
        "id": "yUeQzcoOXFFO"
      },
      "execution_count": 204,
      "outputs": [
        {
          "output_type": "stream",
          "name": "stdout",
          "text": [
            "['i', 'me', 'my', 'myself', 'we', 'our', 'ours', 'ourselves', 'you', \"you're\", \"you've\", \"you'll\", \"you'd\", 'your', 'yours', 'yourself', 'yourselves', 'he', 'him', 'his', 'himself', 'she', \"she's\", 'her', 'hers', 'herself', 'it', \"it's\", 'its', 'itself', 'they', 'them', 'their', 'theirs', 'themselves', 'what', 'which', 'who', 'whom', 'this', 'that', \"that'll\", 'these', 'those', 'am', 'is', 'are', 'was', 'were', 'be', 'been', 'being', 'have', 'has', 'had', 'having', 'do', 'does', 'did', 'doing', 'a', 'an', 'the', 'and', 'but', 'if', 'or', 'because', 'as', 'until', 'while', 'of', 'at', 'by', 'for', 'with', 'about', 'against', 'between', 'into', 'through', 'during', 'before', 'after', 'above', 'below', 'to', 'from', 'up', 'down', 'in', 'out', 'on', 'off', 'over', 'under', 'again', 'further', 'then', 'once', 'here', 'there', 'when', 'where', 'why', 'how', 'all', 'any', 'both', 'each', 'few', 'more', 'most', 'other', 'some', 'such', 'no', 'nor', 'not', 'only', 'own', 'same', 'so', 'than', 'too', 'very', 's', 't', 'can', 'will', 'just', 'don', \"don't\", 'should', \"should've\", 'now', 'd', 'll', 'm', 'o', 're', 've', 'y', 'ain', 'aren', \"aren't\", 'couldn', \"couldn't\", 'didn', \"didn't\", 'doesn', \"doesn't\", 'hadn', \"hadn't\", 'hasn', \"hasn't\", 'haven', \"haven't\", 'isn', \"isn't\", 'ma', 'mightn', \"mightn't\", 'mustn', \"mustn't\", 'needn', \"needn't\", 'shan', \"shan't\", 'shouldn', \"shouldn't\", 'wasn', \"wasn't\", 'weren', \"weren't\", 'won', \"won't\", 'wouldn', \"wouldn't\"]\n"
          ]
        }
      ]
    },
    {
      "cell_type": "markdown",
      "source": [
        "Data Pre-processing"
      ],
      "metadata": {
        "id": "fNWyeetUXFFO"
      }
    },
    {
      "cell_type": "code",
      "source": [
        "#loading the dataset to a panadas DataFrame\n",
        "news_dataset = pd.read_csv('/content/dataset.csv')"
      ],
      "metadata": {
        "id": "CXZN-zipXFFO"
      },
      "execution_count": 206,
      "outputs": []
    },
    {
      "cell_type": "code",
      "source": [
        "news_dataset.shape"
      ],
      "metadata": {
        "colab": {
          "base_uri": "https://localhost:8080/"
        },
        "outputId": "cc3f1f5a-d448-4981-bee8-c85720b8a318",
        "id": "xMoQ4uXHXFFP"
      },
      "execution_count": 207,
      "outputs": [
        {
          "output_type": "execute_result",
          "data": {
            "text/plain": [
              "(18822, 5)"
            ]
          },
          "metadata": {},
          "execution_count": 207
        }
      ]
    },
    {
      "cell_type": "code",
      "source": [
        "#print the first 5 rows of the dataframe\n",
        "news_dataset.head()"
      ],
      "metadata": {
        "colab": {
          "base_uri": "https://localhost:8080/",
          "height": 293
        },
        "outputId": "bab0a32b-850d-4423-e949-d3c8568b9bb8",
        "id": "8zH3FHlpXFFP"
      },
      "execution_count": 208,
      "outputs": [
        {
          "output_type": "execute_result",
          "data": {
            "text/plain": [
              "   id                                              title              author  \\\n",
              "0   0  House Dem Aide: We Didn’t Even See Comey’s Let...       Darrell Lucus   \n",
              "1   1  FLYNN: Hillary Clinton, Big Woman on Campus - ...     Daniel J. Flynn   \n",
              "2   2                  Why the Truth Might Get You Fired  Consortiumnews.com   \n",
              "3   3  15 Civilians Killed In Single US Airstrike Hav...     Jessica Purkiss   \n",
              "4   4  Iranian woman jailed for fictional unpublished...      Howard Portnoy   \n",
              "\n",
              "                                                text  label  \n",
              "0  House Dem Aide: We Didn’t Even See Comey’s Let...    1.0  \n",
              "1  Ever get the feeling your life circles the rou...    0.0  \n",
              "2  Why the Truth Might Get You Fired October 29, ...    1.0  \n",
              "3  Videos 15 Civilians Killed In Single US Airstr...    1.0  \n",
              "4  Print \\nAn Iranian woman has been sentenced to...    1.0  "
            ],
            "text/html": [
              "\n",
              "  <div id=\"df-573660ff-32d2-49ef-b9b9-69f450cfd91c\" class=\"colab-df-container\">\n",
              "    <div>\n",
              "<style scoped>\n",
              "    .dataframe tbody tr th:only-of-type {\n",
              "        vertical-align: middle;\n",
              "    }\n",
              "\n",
              "    .dataframe tbody tr th {\n",
              "        vertical-align: top;\n",
              "    }\n",
              "\n",
              "    .dataframe thead th {\n",
              "        text-align: right;\n",
              "    }\n",
              "</style>\n",
              "<table border=\"1\" class=\"dataframe\">\n",
              "  <thead>\n",
              "    <tr style=\"text-align: right;\">\n",
              "      <th></th>\n",
              "      <th>id</th>\n",
              "      <th>title</th>\n",
              "      <th>author</th>\n",
              "      <th>text</th>\n",
              "      <th>label</th>\n",
              "    </tr>\n",
              "  </thead>\n",
              "  <tbody>\n",
              "    <tr>\n",
              "      <th>0</th>\n",
              "      <td>0</td>\n",
              "      <td>House Dem Aide: We Didn’t Even See Comey’s Let...</td>\n",
              "      <td>Darrell Lucus</td>\n",
              "      <td>House Dem Aide: We Didn’t Even See Comey’s Let...</td>\n",
              "      <td>1.0</td>\n",
              "    </tr>\n",
              "    <tr>\n",
              "      <th>1</th>\n",
              "      <td>1</td>\n",
              "      <td>FLYNN: Hillary Clinton, Big Woman on Campus - ...</td>\n",
              "      <td>Daniel J. Flynn</td>\n",
              "      <td>Ever get the feeling your life circles the rou...</td>\n",
              "      <td>0.0</td>\n",
              "    </tr>\n",
              "    <tr>\n",
              "      <th>2</th>\n",
              "      <td>2</td>\n",
              "      <td>Why the Truth Might Get You Fired</td>\n",
              "      <td>Consortiumnews.com</td>\n",
              "      <td>Why the Truth Might Get You Fired October 29, ...</td>\n",
              "      <td>1.0</td>\n",
              "    </tr>\n",
              "    <tr>\n",
              "      <th>3</th>\n",
              "      <td>3</td>\n",
              "      <td>15 Civilians Killed In Single US Airstrike Hav...</td>\n",
              "      <td>Jessica Purkiss</td>\n",
              "      <td>Videos 15 Civilians Killed In Single US Airstr...</td>\n",
              "      <td>1.0</td>\n",
              "    </tr>\n",
              "    <tr>\n",
              "      <th>4</th>\n",
              "      <td>4</td>\n",
              "      <td>Iranian woman jailed for fictional unpublished...</td>\n",
              "      <td>Howard Portnoy</td>\n",
              "      <td>Print \\nAn Iranian woman has been sentenced to...</td>\n",
              "      <td>1.0</td>\n",
              "    </tr>\n",
              "  </tbody>\n",
              "</table>\n",
              "</div>\n",
              "    <div class=\"colab-df-buttons\">\n",
              "\n",
              "  <div class=\"colab-df-container\">\n",
              "    <button class=\"colab-df-convert\" onclick=\"convertToInteractive('df-573660ff-32d2-49ef-b9b9-69f450cfd91c')\"\n",
              "            title=\"Convert this dataframe to an interactive table.\"\n",
              "            style=\"display:none;\">\n",
              "\n",
              "  <svg xmlns=\"http://www.w3.org/2000/svg\" height=\"24px\" viewBox=\"0 -960 960 960\">\n",
              "    <path d=\"M120-120v-720h720v720H120Zm60-500h600v-160H180v160Zm220 220h160v-160H400v160Zm0 220h160v-160H400v160ZM180-400h160v-160H180v160Zm440 0h160v-160H620v160ZM180-180h160v-160H180v160Zm440 0h160v-160H620v160Z\"/>\n",
              "  </svg>\n",
              "    </button>\n",
              "\n",
              "  <style>\n",
              "    .colab-df-container {\n",
              "      display:flex;\n",
              "      gap: 12px;\n",
              "    }\n",
              "\n",
              "    .colab-df-convert {\n",
              "      background-color: #E8F0FE;\n",
              "      border: none;\n",
              "      border-radius: 50%;\n",
              "      cursor: pointer;\n",
              "      display: none;\n",
              "      fill: #1967D2;\n",
              "      height: 32px;\n",
              "      padding: 0 0 0 0;\n",
              "      width: 32px;\n",
              "    }\n",
              "\n",
              "    .colab-df-convert:hover {\n",
              "      background-color: #E2EBFA;\n",
              "      box-shadow: 0px 1px 2px rgba(60, 64, 67, 0.3), 0px 1px 3px 1px rgba(60, 64, 67, 0.15);\n",
              "      fill: #174EA6;\n",
              "    }\n",
              "\n",
              "    .colab-df-buttons div {\n",
              "      margin-bottom: 4px;\n",
              "    }\n",
              "\n",
              "    [theme=dark] .colab-df-convert {\n",
              "      background-color: #3B4455;\n",
              "      fill: #D2E3FC;\n",
              "    }\n",
              "\n",
              "    [theme=dark] .colab-df-convert:hover {\n",
              "      background-color: #434B5C;\n",
              "      box-shadow: 0px 1px 3px 1px rgba(0, 0, 0, 0.15);\n",
              "      filter: drop-shadow(0px 1px 2px rgba(0, 0, 0, 0.3));\n",
              "      fill: #FFFFFF;\n",
              "    }\n",
              "  </style>\n",
              "\n",
              "    <script>\n",
              "      const buttonEl =\n",
              "        document.querySelector('#df-573660ff-32d2-49ef-b9b9-69f450cfd91c button.colab-df-convert');\n",
              "      buttonEl.style.display =\n",
              "        google.colab.kernel.accessAllowed ? 'block' : 'none';\n",
              "\n",
              "      async function convertToInteractive(key) {\n",
              "        const element = document.querySelector('#df-573660ff-32d2-49ef-b9b9-69f450cfd91c');\n",
              "        const dataTable =\n",
              "          await google.colab.kernel.invokeFunction('convertToInteractive',\n",
              "                                                    [key], {});\n",
              "        if (!dataTable) return;\n",
              "\n",
              "        const docLinkHtml = 'Like what you see? Visit the ' +\n",
              "          '<a target=\"_blank\" href=https://colab.research.google.com/notebooks/data_table.ipynb>data table notebook</a>'\n",
              "          + ' to learn more about interactive tables.';\n",
              "        element.innerHTML = '';\n",
              "        dataTable['output_type'] = 'display_data';\n",
              "        await google.colab.output.renderOutput(dataTable, element);\n",
              "        const docLink = document.createElement('div');\n",
              "        docLink.innerHTML = docLinkHtml;\n",
              "        element.appendChild(docLink);\n",
              "      }\n",
              "    </script>\n",
              "  </div>\n",
              "\n",
              "\n",
              "<div id=\"df-e74da000-f373-4d8c-96ca-77530e2fa25b\">\n",
              "  <button class=\"colab-df-quickchart\" onclick=\"quickchart('df-e74da000-f373-4d8c-96ca-77530e2fa25b')\"\n",
              "            title=\"Suggest charts\"\n",
              "            style=\"display:none;\">\n",
              "\n",
              "<svg xmlns=\"http://www.w3.org/2000/svg\" height=\"24px\"viewBox=\"0 0 24 24\"\n",
              "     width=\"24px\">\n",
              "    <g>\n",
              "        <path d=\"M19 3H5c-1.1 0-2 .9-2 2v14c0 1.1.9 2 2 2h14c1.1 0 2-.9 2-2V5c0-1.1-.9-2-2-2zM9 17H7v-7h2v7zm4 0h-2V7h2v10zm4 0h-2v-4h2v4z\"/>\n",
              "    </g>\n",
              "</svg>\n",
              "  </button>\n",
              "\n",
              "<style>\n",
              "  .colab-df-quickchart {\n",
              "      --bg-color: #E8F0FE;\n",
              "      --fill-color: #1967D2;\n",
              "      --hover-bg-color: #E2EBFA;\n",
              "      --hover-fill-color: #174EA6;\n",
              "      --disabled-fill-color: #AAA;\n",
              "      --disabled-bg-color: #DDD;\n",
              "  }\n",
              "\n",
              "  [theme=dark] .colab-df-quickchart {\n",
              "      --bg-color: #3B4455;\n",
              "      --fill-color: #D2E3FC;\n",
              "      --hover-bg-color: #434B5C;\n",
              "      --hover-fill-color: #FFFFFF;\n",
              "      --disabled-bg-color: #3B4455;\n",
              "      --disabled-fill-color: #666;\n",
              "  }\n",
              "\n",
              "  .colab-df-quickchart {\n",
              "    background-color: var(--bg-color);\n",
              "    border: none;\n",
              "    border-radius: 50%;\n",
              "    cursor: pointer;\n",
              "    display: none;\n",
              "    fill: var(--fill-color);\n",
              "    height: 32px;\n",
              "    padding: 0;\n",
              "    width: 32px;\n",
              "  }\n",
              "\n",
              "  .colab-df-quickchart:hover {\n",
              "    background-color: var(--hover-bg-color);\n",
              "    box-shadow: 0 1px 2px rgba(60, 64, 67, 0.3), 0 1px 3px 1px rgba(60, 64, 67, 0.15);\n",
              "    fill: var(--button-hover-fill-color);\n",
              "  }\n",
              "\n",
              "  .colab-df-quickchart-complete:disabled,\n",
              "  .colab-df-quickchart-complete:disabled:hover {\n",
              "    background-color: var(--disabled-bg-color);\n",
              "    fill: var(--disabled-fill-color);\n",
              "    box-shadow: none;\n",
              "  }\n",
              "\n",
              "  .colab-df-spinner {\n",
              "    border: 2px solid var(--fill-color);\n",
              "    border-color: transparent;\n",
              "    border-bottom-color: var(--fill-color);\n",
              "    animation:\n",
              "      spin 1s steps(1) infinite;\n",
              "  }\n",
              "\n",
              "  @keyframes spin {\n",
              "    0% {\n",
              "      border-color: transparent;\n",
              "      border-bottom-color: var(--fill-color);\n",
              "      border-left-color: var(--fill-color);\n",
              "    }\n",
              "    20% {\n",
              "      border-color: transparent;\n",
              "      border-left-color: var(--fill-color);\n",
              "      border-top-color: var(--fill-color);\n",
              "    }\n",
              "    30% {\n",
              "      border-color: transparent;\n",
              "      border-left-color: var(--fill-color);\n",
              "      border-top-color: var(--fill-color);\n",
              "      border-right-color: var(--fill-color);\n",
              "    }\n",
              "    40% {\n",
              "      border-color: transparent;\n",
              "      border-right-color: var(--fill-color);\n",
              "      border-top-color: var(--fill-color);\n",
              "    }\n",
              "    60% {\n",
              "      border-color: transparent;\n",
              "      border-right-color: var(--fill-color);\n",
              "    }\n",
              "    80% {\n",
              "      border-color: transparent;\n",
              "      border-right-color: var(--fill-color);\n",
              "      border-bottom-color: var(--fill-color);\n",
              "    }\n",
              "    90% {\n",
              "      border-color: transparent;\n",
              "      border-bottom-color: var(--fill-color);\n",
              "    }\n",
              "  }\n",
              "</style>\n",
              "\n",
              "  <script>\n",
              "    async function quickchart(key) {\n",
              "      const quickchartButtonEl =\n",
              "        document.querySelector('#' + key + ' button');\n",
              "      quickchartButtonEl.disabled = true;  // To prevent multiple clicks.\n",
              "      quickchartButtonEl.classList.add('colab-df-spinner');\n",
              "      try {\n",
              "        const charts = await google.colab.kernel.invokeFunction(\n",
              "            'suggestCharts', [key], {});\n",
              "      } catch (error) {\n",
              "        console.error('Error during call to suggestCharts:', error);\n",
              "      }\n",
              "      quickchartButtonEl.classList.remove('colab-df-spinner');\n",
              "      quickchartButtonEl.classList.add('colab-df-quickchart-complete');\n",
              "    }\n",
              "    (() => {\n",
              "      let quickchartButtonEl =\n",
              "        document.querySelector('#df-e74da000-f373-4d8c-96ca-77530e2fa25b button');\n",
              "      quickchartButtonEl.style.display =\n",
              "        google.colab.kernel.accessAllowed ? 'block' : 'none';\n",
              "    })();\n",
              "  </script>\n",
              "</div>\n",
              "\n",
              "    </div>\n",
              "  </div>\n"
            ],
            "application/vnd.google.colaboratory.intrinsic+json": {
              "type": "dataframe",
              "variable_name": "news_dataset",
              "summary": "{\n  \"name\": \"news_dataset\",\n  \"rows\": 18822,\n  \"fields\": [\n    {\n      \"column\": \"id\",\n      \"properties\": {\n        \"dtype\": \"number\",\n        \"std\": 5433,\n        \"min\": 0,\n        \"max\": 18821,\n        \"num_unique_values\": 18822,\n        \"samples\": [\n          5597,\n          17195,\n          13875\n        ],\n        \"semantic_type\": \"\",\n        \"description\": \"\"\n      }\n    },\n    {\n      \"column\": \"title\",\n      \"properties\": {\n        \"dtype\": \"string\",\n        \"num_unique_values\": 17968,\n        \"samples\": [\n          \"A Toilet, but No Proper Plumbing: A Reality in 500,000 U.S. Homes - The New York Times\",\n          \"Texas Cop Survives New Year\\u2019s Day Ambush\",\n          \"Rodrigo Duterte Ordered Philippine Killings, Professed Hit Man Testifies - The New York Times\"\n        ],\n        \"semantic_type\": \"\",\n        \"description\": \"\"\n      }\n    },\n    {\n      \"column\": \"author\",\n      \"properties\": {\n        \"dtype\": \"category\",\n        \"num_unique_values\": 3943,\n        \"samples\": [\n          \"Dennis J. Kucinich\",\n          \"Helene Cooper, Matthew Rosenberg and Yamiche Alcindor\",\n          \"Michael W. Chapman\"\n        ],\n        \"semantic_type\": \"\",\n        \"description\": \"\"\n      }\n    },\n    {\n      \"column\": \"text\",\n      \"properties\": {\n        \"dtype\": \"string\",\n        \"num_unique_values\": 18456,\n        \"samples\": [\n          \"(Before It's News)\\nUNIONDALE, NEW YORK \\u2014 Sahn Ward Coschignano, PLLC has announced that Christian Browne, a Partner with the Firm, successfully appealed a New York State Supreme Court decision that dismissed a restaurant\\u2019s request to annul a five-year durational limit on the eatery\\u2019s parking lot that extends into the Town\\u2019s Residence District.\\nOn April 22, 2015, the Board of Zoning and Appeals (BZA) imposed a five-year durational limit on an approval that allows Mim\\u2019s Restaurant to provide parking in a part of its property that is within a residential zoning district.\\nThe restaurant then commenced an Article 78 proceeding, seeking to annul the durational limit. On November 18, 2015, the New York State Supreme Court, Nassau County, denied the petition and dismissed the proceeding.\\nOn October 19, 2016, the Supreme Court of the State of New York, Appellate Division, Second Judicial Department, overturned the lower court\\u2019s decision. In its ruling, the Appellate Court stated that the BZA does not have the authority to impose the durational limit on the restaurant\\u2019s parking lot because the Town Code does not confer any such power to limit the life of the approval.\\nZoning boards routinely impose durational limits on various types of approvals given for commercial uses. Businesses often object to these time restrictions as being unfair and unnecessary burdens on their property rights because, by limiting the life of a zoning approval, zoning boards force businesses to regularly seek renewed permission for their ongoing operations.\\n\\u201cWe are pleased with the Court\\u2019s decision,\\u201d Mr. Browne said. \\u201cWe believe it strikes the proper balance between the rights of a commercial property owner and the need for the Town to protect the interest of the surrounding neighborhood.\\u201d\\nNicholas J. Cappadora, an Associate with the Firm, assisted Mr. Browne on the case.\\nFor more information on Sahn Ward Coschignano, call (516) 228-1300 or visit www.swc-law.com .\\n###\\nAbout Sahn Ward Coschignano, PLLC\\nSahn Ward Coschignano, PLLC is committed to providing its clients with the highest quality representation, counsel and advice. Practice areas include zoning and land use planning; real estate law and transactions; litigation and appeals; municipal law and legislative practice; cellular and telecommunications law; environmental, corporate, labor and employment law; tax certiorari and condemnation; matrimonial practice; and estate planning. The firm strives to assist its clients in a wide array of issues, serving them with skill and experience, resourcefulness and responsibility. For more information, call (516) 228-1300 or visit www.swc-law.com .\",\n          \"We Are Change \\nA plane carrying U.S. Vice Presidential candidate Mike Pence and his campaign crew has slid off the runway in New York\\u2019s LaGuardia Airport approximately 5 p.m. eastern today according to WPIX-TV .\\n\\nThere were 37 people on the plane, including Pence. No injuries have been declared or deaths at the time of this writing.\\nThe flight was initially delayted because of unknown problems at LaGuardia, giving Pence time to toss the football around while stranded on the tarmac in Iowa, and tweet this photo reported Fox6. \\n(THIS IS A BREAKING, DEVELOPING STORY AND UPDATES WILL BE ADDED AS MORE INFORMATION BECOMES AVAILABLE.)\\nThe post BREAKING: Plane Carrying U.S. VP Candidate MIKE PENCE Slides Off The Runway appeared first on We Are Change .\\n\",\n          \"SITTWE, Myanmar  \\u2014   Violence between the Rohingya, a persecuted Muslim population, and Myanmar\\u2019s security forces escalated over the weekend as two soldiers were killed by crudely armed attackers, said government officials and Muslim residents. In retaliation, troops of the   government used helicopters to fire at the attackers in dense forest in northwestern Myanmar, a government spokesman said. The two soldiers were killed Saturday by attackers armed with guns, knives and spears near the village of Gwason, south of Maungdaw, the main town in northern Rakhine, said the state information officer, U San Nwe. About 500 attackers were involved in the clash, he said. The area is closed to Western journalists, making it impossible to verify the scale of the fighting. The remote enclave of northern Rakhine State, close to the Bangladeshi border, has been under siege since the government sent security forces to hunt for what it said were armed Rohingya assailants who had killed nine police officers in early October. Since then, human rights groups have received reports of killings of unarmed Rohingya men by Myanmar soldiers, rapes of Rohingya women by soldiers in a number of villages, and beatings of Rohingya men held in detention in the town of Maungdaw. Before the latest attack, as many as 100 Rohingya civilians may have been killed, the groups say. Western diplomats have called on Daw Aung San Suu Kyi, the Nobel laureate who leads Myanmar\\u2019s government, to conduct an independent investigation into the violence. So far, she has declined, allowing a Rakhine State committee to investigate. She has also urged that specific complaints be filed with a commission  headed by Kofi Annan, the former United Nations secretary general, that was formed in August. Her spokesman, U Zaw Htay, said on Sunday that the latest attacks made it necessary for the military and police operation to continue until the culprits were arrested and the weapons they had seized were found. The troops have been instructed to respect human rights, he said. But Myanmar\\u2019s army is known to be poorly trained and has a record rife with human rights abuses, including rape, in its battles with various separatist groups over many years, Western diplomats say. Also on Saturday, a police car was hit by the blast from a roadside mine near the village of Kyikanpyin, north of Maungdaw, where five of the nine police officers were killed on Oct. 9, according to the Ministry of Information in Naypyidaw, the capital. No one was killed in the blast on Saturday. Reached by telephone in Maungdaw on Sunday, Mohammed Sultan, a retired Rohingya teacher, said some students had told him that their villages had been set on fire. \\u201cOne of my pupils said he was hiding in the rice field,\\u201d Mr. Sultan said. The connection then went dead, he said.   satellite images taken in October and this month showed widespread burning of Rohingya villages, Human Rights Watch said on Sunday. Although relations between the Rohingya and the security forces have always been tense, the tactic of Rohingya men attacking police stations, targeting security forces and apparently planting roadside bombs is new, government officials and Rohingya activists say. The motivation for the increase in violence by what appears to be a small group of armed Rohingya men is not clear. The government, providing little proof, immediately blamed two   groups: Aqa Mul Mujahidin and the Rohingya Solidarity Organization. The   repression of the Rohingya by the Myanmar authorities made the population of about one million Rohingya fertile ground for Islamic radicalization, activists and diplomats say. Here in Sittwe, in southern Rakhine, more than 100, 000 Rohingya have been kept in what amount to internment camps for four years, prevented from traveling and forbidden to reclaim land and property destroyed during communal violence in 2012. The new violence north of Sittwe was worse than that four years ago, said Mohamed Saed, a community leader. \\u201cThen, it was communal violence between two groups: Rohingya and Rakhine Buddhists,\\u201d he said. \\u201cThis is now direct government repression. \\u201d Several Rohingya leaders said they did not believe Rohingya ties to radical jihadists were the cause of the attacks five weeks ago. New, harsh proposals by the government may have been the catalyst, they suggested. In September, a Rakhine official, Col. Htein Lin, said the government would destroy all \\u201cillegally\\u201d built structures, including more than 2, 500 houses, 600 shops, a dozen mosques and more than 30 schools. U Kyaw Min, a Rohingya who is the chairman of the Democracy and Human Rights Party, said, \\u201cThat was saying we have to reduce the population of Rohingya and push them over the border to Bangladesh. \\u201d The attitude of officials in Rakhine State toward the Rohingya is unequivocal. They call the Rohingya \\u201cBengalis,\\u201d implying that they belong in Bangladesh. A leader of the Arakan National Party, U Aung Win, said it was now necessary to form a special paramilitary force. The Rohingya make up more than 90 percent of northern Rakinine State\\u2019s population, outnumbering the Rakhine Buddhists, so more protection is needed for the Buddhist minority, Mr. Aung Win said. The two groups cannot live together, he insisted. Mr. Aung Win is also the chairman of the Rakhine State investigation into the Oct. 9 attacks. The Rohingya villages around Kyikanpyin have become armed camps, according to telephone conversations and text messages from villagers to friends in Sittwe. Food is scarce, and a strict    curfew is enforced, they say. In those areas, villagers say soldiers have raped women and stolen their jewelry. Three women, ages 23, 21 and 17, were raped Wednesday by soldiers living in the local school, said Mohamed Rahim, a village leader in Pyoung Pai, not far from Kyikanpyin. \\u201cThe villagers were told to gather in the rice fields, but the three girls were told to stay in the house with their mother,\\u201d he said in a telephone interview. \\u201cBefore the rape, they told the mother to get out. I then saw the military enter the house. \\u201d Myanmar officials deny that rapes have occurred. \\u201cIt\\u2019s not so easy to rape a Bengali woman,\\u201d Mr. Aung Win said. \\u201cAll the Bengali villages are covered by bamboo netting and plastic. \\u201d In a recent interview with the BBC, Mr. Aung Win said it was impossible that soldiers had raped the women because Rohingya \\u201care very dirty. \\u201d The question of the rapes is particularly sensitive. The Myanmar Times newspaper fired a journalist, Fiona MacGregor, for writing an article about alleged rapes of Rohingya women on Oct. 19.\"\n        ],\n        \"semantic_type\": \"\",\n        \"description\": \"\"\n      }\n    },\n    {\n      \"column\": \"label\",\n      \"properties\": {\n        \"dtype\": \"number\",\n        \"std\": 0.5000117245052507,\n        \"min\": 0.0,\n        \"max\": 1.0,\n        \"num_unique_values\": 2,\n        \"samples\": [\n          0.0,\n          1.0\n        ],\n        \"semantic_type\": \"\",\n        \"description\": \"\"\n      }\n    }\n  ]\n}"
            }
          },
          "metadata": {},
          "execution_count": 208
        }
      ]
    },
    {
      "cell_type": "code",
      "source": [
        "#couting the number of missing values in the dataset\n",
        "news_dataset.isnull().sum()"
      ],
      "metadata": {
        "colab": {
          "base_uri": "https://localhost:8080/"
        },
        "outputId": "7012e6f7-c96b-47f5-e67f-62ce27934668",
        "id": "FV_kICL-XFFP"
      },
      "execution_count": 209,
      "outputs": [
        {
          "output_type": "execute_result",
          "data": {
            "text/plain": [
              "id           0\n",
              "title      496\n",
              "author    1784\n",
              "text        37\n",
              "label        1\n",
              "dtype: int64"
            ]
          },
          "metadata": {},
          "execution_count": 209
        }
      ]
    },
    {
      "cell_type": "code",
      "source": [
        "#replacing the null values with empty string\n",
        "news_dataset = news_dataset.fillna('')"
      ],
      "metadata": {
        "id": "XrIwu95zXFFP"
      },
      "execution_count": 210,
      "outputs": []
    },
    {
      "cell_type": "code",
      "source": [
        "# merging the author name and news title\n",
        "news_dataset['content'] = news_dataset['author'] + ' ' + ['title']\n"
      ],
      "metadata": {
        "id": "4bA-4OoeXFFP"
      },
      "execution_count": 211,
      "outputs": []
    },
    {
      "cell_type": "code",
      "source": [
        "print(news_dataset['content'])"
      ],
      "metadata": {
        "colab": {
          "base_uri": "https://localhost:8080/"
        },
        "outputId": "41becff4-2250-403c-ce71-f76c07cd9524",
        "id": "vy-FSlpuXFFP"
      },
      "execution_count": 212,
      "outputs": [
        {
          "output_type": "stream",
          "name": "stdout",
          "text": [
            "0              Darrell Lucus title\n",
            "1            Daniel J. Flynn title\n",
            "2         Consortiumnews.com title\n",
            "3            Jessica Purkiss title\n",
            "4             Howard Portnoy title\n",
            "                   ...            \n",
            "18817    Breitbart Jerusalem title\n",
            "18818                        title\n",
            "18819            Liz Robbins title\n",
            "18820                        title\n",
            "18821                        title\n",
            "Name: content, Length: 18822, dtype: object\n"
          ]
        }
      ]
    },
    {
      "cell_type": "code",
      "source": [
        "#separating the data & label\n",
        "X = news_dataset.drop(columns = 'label', axis=1)\n",
        "Y = news_dataset['label']"
      ],
      "metadata": {
        "id": "h5jKVE9gXFFQ"
      },
      "execution_count": 213,
      "outputs": []
    },
    {
      "cell_type": "code",
      "source": [
        "print(X)\n",
        "print(Y)"
      ],
      "metadata": {
        "colab": {
          "base_uri": "https://localhost:8080/"
        },
        "outputId": "2056474a-80e7-4403-9399-5d9823085026",
        "id": "rg-OSu9cXFFQ"
      },
      "execution_count": 214,
      "outputs": [
        {
          "output_type": "stream",
          "name": "stdout",
          "text": [
            "          id                                              title  \\\n",
            "0          0  House Dem Aide: We Didn’t Even See Comey’s Let...   \n",
            "1          1  FLYNN: Hillary Clinton, Big Woman on Campus - ...   \n",
            "2          2                  Why the Truth Might Get You Fired   \n",
            "3          3  15 Civilians Killed In Single US Airstrike Hav...   \n",
            "4          4  Iranian woman jailed for fictional unpublished...   \n",
            "...      ...                                                ...   \n",
            "18817  18817  Steven Tyler Lands in Israel Ahead of Aerosmit...   \n",
            "18818  18818  Money Laundering Scheme Exposed: 14 Pro-Clinto...   \n",
            "18819  18819  Immigrants Head to Washington to Rally While O...   \n",
            "18820  18820                      Syria Is Another Pipeline War   \n",
            "18821  18821                      Voting is the Problem. Here’s   \n",
            "\n",
            "                    author                                               text  \\\n",
            "0            Darrell Lucus  House Dem Aide: We Didn’t Even See Comey’s Let...   \n",
            "1          Daniel J. Flynn  Ever get the feeling your life circles the rou...   \n",
            "2       Consortiumnews.com  Why the Truth Might Get You Fired October 29, ...   \n",
            "3          Jessica Purkiss  Videos 15 Civilians Killed In Single US Airstr...   \n",
            "4           Howard Portnoy  Print \\nAn Iranian woman has been sentenced to...   \n",
            "...                    ...                                                ...   \n",
            "18817  Breitbart Jerusalem  The Jerusalem Post reports: Steven Tyler, lead...   \n",
            "18818                        \\nThere’s a reason David Brock, founder of th...   \n",
            "18819          Liz Robbins  Nine busloads of immigrant activists from Broo...   \n",
            "18820                       Syria Is Another Pipeline War   | Print This \\...   \n",
            "18821                                                                           \n",
            "\n",
            "                         content  \n",
            "0            Darrell Lucus title  \n",
            "1          Daniel J. Flynn title  \n",
            "2       Consortiumnews.com title  \n",
            "3          Jessica Purkiss title  \n",
            "4           Howard Portnoy title  \n",
            "...                          ...  \n",
            "18817  Breitbart Jerusalem title  \n",
            "18818                      title  \n",
            "18819          Liz Robbins title  \n",
            "18820                      title  \n",
            "18821                      title  \n",
            "\n",
            "[18822 rows x 5 columns]\n",
            "0        1.0\n",
            "1        0.0\n",
            "2        1.0\n",
            "3        1.0\n",
            "4        1.0\n",
            "        ... \n",
            "18817    0.0\n",
            "18818    1.0\n",
            "18819    0.0\n",
            "18820    1.0\n",
            "18821       \n",
            "Name: label, Length: 18822, dtype: object\n"
          ]
        }
      ]
    },
    {
      "cell_type": "markdown",
      "source": [
        "Stremming:\n",
        "Stremming is the process of reducing a word to its Root word\n",
        "\n",
        "example:\n",
        "actor, actress , acting --> act"
      ],
      "metadata": {
        "id": "0lR1MvGPXFFQ"
      }
    },
    {
      "cell_type": "code",
      "source": [
        "port_stem = PorterStemmer()\n"
      ],
      "metadata": {
        "id": "iTjC_-hGXFFQ"
      },
      "execution_count": 215,
      "outputs": []
    },
    {
      "cell_type": "code",
      "source": [
        "def stemming(content):\n",
        "  stemmed_content = re.sub('[^a-zA-Z]',' ',content)\n",
        "  stemmed_content = stemmed_content.lower()\n",
        "  stemmed_content = stemmed_content.split()\n",
        "  stemmed_content = [port_stem.stem(word) for word in stemmed_content if not word in stopwords.words('english')]\n",
        "  stemmed_content = ' '.join(stemmed_content)\n",
        "  return stemmed_content\n"
      ],
      "metadata": {
        "id": "qGZVu1CWXFFQ"
      },
      "execution_count": 216,
      "outputs": []
    },
    {
      "cell_type": "code",
      "source": [
        "news_dataset['content'] = news_dataset['content'].apply(stemming)"
      ],
      "metadata": {
        "id": "ZXa8SZYMXFFQ"
      },
      "execution_count": 217,
      "outputs": []
    },
    {
      "cell_type": "code",
      "source": [
        "print(news_dataset['content'])"
      ],
      "metadata": {
        "colab": {
          "base_uri": "https://localhost:8080/"
        },
        "outputId": "0f5f13b2-0c37-4deb-d475-0fe73c81289c",
        "id": "uVJ8vxGHXFFQ"
      },
      "execution_count": 218,
      "outputs": [
        {
          "output_type": "stream",
          "name": "stdout",
          "text": [
            "0                darrel lucu titl\n",
            "1             daniel j flynn titl\n",
            "2          consortiumnew com titl\n",
            "3            jessica purkiss titl\n",
            "4             howard portnoy titl\n",
            "                   ...           \n",
            "18817    breitbart jerusalem titl\n",
            "18818                        titl\n",
            "18819             liz robbin titl\n",
            "18820                        titl\n",
            "18821                        titl\n",
            "Name: content, Length: 18822, dtype: object\n"
          ]
        }
      ]
    },
    {
      "cell_type": "code",
      "source": [
        "# separating the data and label\n",
        "X = news_dataset['content'].values\n",
        "Y = news_dataset['label'].values"
      ],
      "metadata": {
        "id": "qNiZ82IeXFFQ"
      },
      "execution_count": 219,
      "outputs": []
    },
    {
      "cell_type": "code",
      "source": [
        "print(X)"
      ],
      "metadata": {
        "colab": {
          "base_uri": "https://localhost:8080/"
        },
        "outputId": "5fd575f3-bb21-4263-9b67-7124c3519cb2",
        "id": "VAmUX7rGXFFQ"
      },
      "execution_count": 220,
      "outputs": [
        {
          "output_type": "stream",
          "name": "stdout",
          "text": [
            "['darrel lucu titl' 'daniel j flynn titl' 'consortiumnew com titl' ...\n",
            " 'liz robbin titl' 'titl' 'titl']\n"
          ]
        }
      ]
    },
    {
      "cell_type": "code",
      "source": [
        "print(Y)"
      ],
      "metadata": {
        "colab": {
          "base_uri": "https://localhost:8080/"
        },
        "outputId": "ccad9414-5d78-4ff4-a916-3b6519238ca3",
        "id": "cuV29tBZXFFR"
      },
      "execution_count": 221,
      "outputs": [
        {
          "output_type": "stream",
          "name": "stdout",
          "text": [
            "[1.0 0.0 1.0 ... 0.0 1.0 '']\n"
          ]
        }
      ]
    },
    {
      "cell_type": "code",
      "source": [
        "Y.shape"
      ],
      "metadata": {
        "colab": {
          "base_uri": "https://localhost:8080/"
        },
        "outputId": "126205e3-8ca2-4ccc-9d78-4c22320cbae8",
        "id": "UadK7_6_XFFR"
      },
      "execution_count": 222,
      "outputs": [
        {
          "output_type": "execute_result",
          "data": {
            "text/plain": [
              "(18822,)"
            ]
          },
          "metadata": {},
          "execution_count": 222
        }
      ]
    },
    {
      "cell_type": "code",
      "source": [
        "#converting the textual data to numerical data\n",
        "vectorizer = TfidfVectorizer()\n",
        "vectorizer.fit(X)\n",
        "\n",
        "X = vectorizer.transform(X)\n"
      ],
      "metadata": {
        "id": "WzprcIl_XFFR"
      },
      "execution_count": 223,
      "outputs": []
    },
    {
      "cell_type": "code",
      "source": [
        "print(X)"
      ],
      "metadata": {
        "colab": {
          "base_uri": "https://localhost:8080/"
        },
        "outputId": "e6cdc305-e062-4cfa-d45b-cbbd61d68734",
        "id": "EtW92c6SXFFR"
      },
      "execution_count": 224,
      "outputs": [
        {
          "output_type": "stream",
          "name": "stdout",
          "text": [
            "  (0, 3570)\t0.082514618167839\n",
            "  (0, 2144)\t0.7046954440709177\n",
            "  (0, 820)\t0.7046954440709177\n",
            "  (1, 3570)\t0.1040133565143117\n",
            "  (1, 1196)\t0.8271623741190197\n",
            "  (1, 805)\t0.5522532286084108\n",
            "  (2, 3570)\t0.1176325315475847\n",
            "  (2, 721)\t0.8176654333075171\n",
            "  (2, 702)\t0.5635475372102486\n",
            "  (3, 3570)\t0.07333575678113471\n",
            "  (3, 2849)\t0.7443350230542027\n",
            "  (3, 1753)\t0.6637674594556724\n",
            "  (4, 3570)\t0.09966059503304432\n",
            "  (4, 2794)\t0.7081049903485587\n",
            "  (4, 1578)\t0.6990386888013618\n",
            "  (5, 3570)\t0.1219338271837369\n",
            "  (5, 2582)\t0.752332441773745\n",
            "  (5, 805)\t0.6474009876753981\n",
            "  (6, 3570)\t1.0\n",
            "  (7, 3570)\t0.09024485873911034\n",
            "  (7, 3061)\t0.6955478627441658\n",
            "  (7, 88)\t0.7127896155971838\n",
            "  (8, 3570)\t1.0\n",
            "  (9, 3634)\t0.5485815582437353\n",
            "  (9, 3570)\t0.06423483817477975\n",
            "  :\t:\n",
            "  (18811, 2569)\t0.704884015736682\n",
            "  (18812, 3621)\t0.8299766968929051\n",
            "  (18812, 3570)\t0.08988855418226478\n",
            "  (18812, 114)\t0.5505077024363645\n",
            "  (18813, 3819)\t0.4299209338945552\n",
            "  (18813, 3570)\t0.07258678715388722\n",
            "  (18813, 3564)\t0.6066751520733858\n",
            "  (18813, 1691)\t0.4506264555742507\n",
            "  (18813, 1498)\t0.4886514159636003\n",
            "  (18814, 3570)\t1.0\n",
            "  (18815, 3570)\t0.11226763145712068\n",
            "  (18815, 3140)\t0.7950383534494112\n",
            "  (18815, 597)\t0.596078850045409\n",
            "  (18816, 3570)\t0.10084890589696414\n",
            "  (18816, 3175)\t0.8719003323041883\n",
            "  (18816, 2354)\t0.479186089851564\n",
            "  (18817, 3570)\t0.11907754791753601\n",
            "  (18817, 1751)\t0.7886895501413967\n",
            "  (18817, 448)\t0.6031495097235079\n",
            "  (18818, 3570)\t1.0\n",
            "  (18819, 3570)\t0.08966328989307419\n",
            "  (18819, 3002)\t0.7493993351153272\n",
            "  (18819, 2108)\t0.6560191544263443\n",
            "  (18820, 3570)\t1.0\n",
            "  (18821, 3570)\t1.0\n"
          ]
        }
      ]
    },
    {
      "cell_type": "markdown",
      "source": [
        "Splitting the dataset to training & test data"
      ],
      "metadata": {
        "id": "rKXly4kCXFFR"
      }
    },
    {
      "cell_type": "code",
      "source": [
        "X_train, X_test , Y_train , Y_test = train_test_split(X,Y, test_size = 0.2, stratify = Y, random_state = 2)"
      ],
      "metadata": {
        "id": "5RmuC7LZXFFR"
      },
      "execution_count": 226,
      "outputs": []
    },
    {
      "cell_type": "markdown",
      "source": [
        "Training the Model: Logistic Regression\n"
      ],
      "metadata": {
        "id": "LXjSnjUgXFFR"
      }
    },
    {
      "cell_type": "code",
      "source": [
        "model = LogisticRegression()"
      ],
      "metadata": {
        "id": "GPSkrMjJXFFR"
      },
      "execution_count": null,
      "outputs": []
    },
    {
      "cell_type": "code",
      "source": [
        "model.fit(X_train , Y_train)"
      ],
      "metadata": {
        "colab": {
          "base_uri": "https://localhost:8080/",
          "height": 74
        },
        "outputId": "3f554063-7daf-46a9-90fb-62bf19d187c0",
        "id": "6_pRg67WXFFR"
      },
      "execution_count": null,
      "outputs": [
        {
          "output_type": "execute_result",
          "data": {
            "text/plain": [
              "LogisticRegression()"
            ],
            "text/html": [
              "<style>#sk-container-id-2 {color: black;background-color: white;}#sk-container-id-2 pre{padding: 0;}#sk-container-id-2 div.sk-toggleable {background-color: white;}#sk-container-id-2 label.sk-toggleable__label {cursor: pointer;display: block;width: 100%;margin-bottom: 0;padding: 0.3em;box-sizing: border-box;text-align: center;}#sk-container-id-2 label.sk-toggleable__label-arrow:before {content: \"▸\";float: left;margin-right: 0.25em;color: #696969;}#sk-container-id-2 label.sk-toggleable__label-arrow:hover:before {color: black;}#sk-container-id-2 div.sk-estimator:hover label.sk-toggleable__label-arrow:before {color: black;}#sk-container-id-2 div.sk-toggleable__content {max-height: 0;max-width: 0;overflow: hidden;text-align: left;background-color: #f0f8ff;}#sk-container-id-2 div.sk-toggleable__content pre {margin: 0.2em;color: black;border-radius: 0.25em;background-color: #f0f8ff;}#sk-container-id-2 input.sk-toggleable__control:checked~div.sk-toggleable__content {max-height: 200px;max-width: 100%;overflow: auto;}#sk-container-id-2 input.sk-toggleable__control:checked~label.sk-toggleable__label-arrow:before {content: \"▾\";}#sk-container-id-2 div.sk-estimator input.sk-toggleable__control:checked~label.sk-toggleable__label {background-color: #d4ebff;}#sk-container-id-2 div.sk-label input.sk-toggleable__control:checked~label.sk-toggleable__label {background-color: #d4ebff;}#sk-container-id-2 input.sk-hidden--visually {border: 0;clip: rect(1px 1px 1px 1px);clip: rect(1px, 1px, 1px, 1px);height: 1px;margin: -1px;overflow: hidden;padding: 0;position: absolute;width: 1px;}#sk-container-id-2 div.sk-estimator {font-family: monospace;background-color: #f0f8ff;border: 1px dotted black;border-radius: 0.25em;box-sizing: border-box;margin-bottom: 0.5em;}#sk-container-id-2 div.sk-estimator:hover {background-color: #d4ebff;}#sk-container-id-2 div.sk-parallel-item::after {content: \"\";width: 100%;border-bottom: 1px solid gray;flex-grow: 1;}#sk-container-id-2 div.sk-label:hover label.sk-toggleable__label {background-color: #d4ebff;}#sk-container-id-2 div.sk-serial::before {content: \"\";position: absolute;border-left: 1px solid gray;box-sizing: border-box;top: 0;bottom: 0;left: 50%;z-index: 0;}#sk-container-id-2 div.sk-serial {display: flex;flex-direction: column;align-items: center;background-color: white;padding-right: 0.2em;padding-left: 0.2em;position: relative;}#sk-container-id-2 div.sk-item {position: relative;z-index: 1;}#sk-container-id-2 div.sk-parallel {display: flex;align-items: stretch;justify-content: center;background-color: white;position: relative;}#sk-container-id-2 div.sk-item::before, #sk-container-id-2 div.sk-parallel-item::before {content: \"\";position: absolute;border-left: 1px solid gray;box-sizing: border-box;top: 0;bottom: 0;left: 50%;z-index: -1;}#sk-container-id-2 div.sk-parallel-item {display: flex;flex-direction: column;z-index: 1;position: relative;background-color: white;}#sk-container-id-2 div.sk-parallel-item:first-child::after {align-self: flex-end;width: 50%;}#sk-container-id-2 div.sk-parallel-item:last-child::after {align-self: flex-start;width: 50%;}#sk-container-id-2 div.sk-parallel-item:only-child::after {width: 0;}#sk-container-id-2 div.sk-dashed-wrapped {border: 1px dashed gray;margin: 0 0.4em 0.5em 0.4em;box-sizing: border-box;padding-bottom: 0.4em;background-color: white;}#sk-container-id-2 div.sk-label label {font-family: monospace;font-weight: bold;display: inline-block;line-height: 1.2em;}#sk-container-id-2 div.sk-label-container {text-align: center;}#sk-container-id-2 div.sk-container {/* jupyter's `normalize.less` sets `[hidden] { display: none; }` but bootstrap.min.css set `[hidden] { display: none !important; }` so we also need the `!important` here to be able to override the default hidden behavior on the sphinx rendered scikit-learn.org. See: https://github.com/scikit-learn/scikit-learn/issues/21755 */display: inline-block !important;position: relative;}#sk-container-id-2 div.sk-text-repr-fallback {display: none;}</style><div id=\"sk-container-id-2\" class=\"sk-top-container\"><div class=\"sk-text-repr-fallback\"><pre>LogisticRegression()</pre><b>In a Jupyter environment, please rerun this cell to show the HTML representation or trust the notebook. <br />On GitHub, the HTML representation is unable to render, please try loading this page with nbviewer.org.</b></div><div class=\"sk-container\" hidden><div class=\"sk-item\"><div class=\"sk-estimator sk-toggleable\"><input class=\"sk-toggleable__control sk-hidden--visually\" id=\"sk-estimator-id-2\" type=\"checkbox\" checked><label for=\"sk-estimator-id-2\" class=\"sk-toggleable__label sk-toggleable__label-arrow\">LogisticRegression</label><div class=\"sk-toggleable__content\"><pre>LogisticRegression()</pre></div></div></div></div></div>"
            ]
          },
          "metadata": {},
          "execution_count": 43
        }
      ]
    },
    {
      "cell_type": "markdown",
      "source": [
        "Evalution"
      ],
      "metadata": {
        "id": "fohDhyM7XFFS"
      }
    },
    {
      "cell_type": "markdown",
      "source": [
        "accuracy score"
      ],
      "metadata": {
        "id": "h10GECakXFFS"
      }
    },
    {
      "cell_type": "code",
      "source": [
        "# accuracy score on the training data\n",
        "X_train_prediction = model.predict(X_train)\n",
        "training_data_accuracy = accuracy_score(X_train_prediction , Y_train)"
      ],
      "metadata": {
        "id": "jZzMQnJ0XFFS"
      },
      "execution_count": null,
      "outputs": []
    },
    {
      "cell_type": "code",
      "source": [
        "print('Accuracy score of the training data : ',training_data_accuracy )"
      ],
      "metadata": {
        "colab": {
          "base_uri": "https://localhost:8080/"
        },
        "outputId": "dee8fa4e-7279-4b5d-c671-bbec6234e2e6",
        "id": "vav2dOMTXFFS"
      },
      "execution_count": null,
      "outputs": [
        {
          "output_type": "stream",
          "name": "stdout",
          "text": [
            "Accuracy score of the training data :  0.9788461538461538\n"
          ]
        }
      ]
    },
    {
      "cell_type": "code",
      "source": [
        "# accuracy score on the test data\n",
        "X_test_prediction = model.predict(X_test)\n",
        "test_data_accuracy = accuracy_score(X_test_prediction , Y_test)"
      ],
      "metadata": {
        "id": "epfOW8BaXFFS"
      },
      "execution_count": null,
      "outputs": []
    },
    {
      "cell_type": "code",
      "source": [
        "print('Accuracy score of the test data : ',test_data_accuracy )"
      ],
      "metadata": {
        "colab": {
          "base_uri": "https://localhost:8080/"
        },
        "outputId": "1786dd4f-9f93-40a0-986d-2a70df8921ac",
        "id": "H5N5meAbXFFS"
      },
      "execution_count": null,
      "outputs": [
        {
          "output_type": "stream",
          "name": "stdout",
          "text": [
            "Accuracy score of the test data :  0.9591346153846154\n"
          ]
        }
      ]
    },
    {
      "cell_type": "markdown",
      "source": [
        "Making a Predictive System"
      ],
      "metadata": {
        "id": "pNbZBLaaXFFS"
      }
    },
    {
      "cell_type": "code",
      "source": [
        "X_new = X_test[3]\n",
        "\n",
        "prediction = model.predict(X_new)\n",
        "print(prediction)\n",
        "\n",
        "if(prediction[0] == 0):\n",
        "  print('The news is Real')\n",
        "\n",
        "else:\n",
        "  print('The news is Fake')\n"
      ],
      "metadata": {
        "colab": {
          "base_uri": "https://localhost:8080/"
        },
        "outputId": "e2a2ff8d-e940-4c70-8910-dbe355daceff",
        "id": "49g6FC76XFFS"
      },
      "execution_count": null,
      "outputs": [
        {
          "output_type": "stream",
          "name": "stdout",
          "text": [
            "[0]\n",
            "The news is Real\n"
          ]
        }
      ]
    },
    {
      "cell_type": "code",
      "source": [
        "print(Y_test[3])"
      ],
      "metadata": {
        "colab": {
          "base_uri": "https://localhost:8080/"
        },
        "outputId": "54ae37ca-83df-478f-efc1-7ebb41a8cabb",
        "id": "-YtPFvALXFFS"
      },
      "execution_count": null,
      "outputs": [
        {
          "output_type": "stream",
          "name": "stdout",
          "text": [
            "0\n"
          ]
        }
      ]
    }
  ]
}